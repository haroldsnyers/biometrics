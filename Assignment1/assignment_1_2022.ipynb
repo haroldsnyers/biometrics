{
 "cells": [
  {
   "cell_type": "markdown",
   "metadata": {},
   "source": [
    "![title](img/logo.png)\n",
    "# Biometrics System Concepts\n",
    "## Assignment 1: Evaluating performance of biometric systems\n",
    "<b>Name</b>: Harold Snyers |\n",
    "<b>Student-nr</b>: r0880356 |\n",
    "<b>Date</b>: March 07, 2022\n",
    "---\n",
    "\n",
    "In this assignment we focus on evaluating the performance of any biometric system in a verification and identification setting. \n",
    "\n",
    "Before you get started you should be able to properly distinguish verification from identification and know the corresponding validation procedures. If this is not the case for you yet, **review the lecture notes!** We will give a short recap to refresh your memory: \n",
    "* **VERIFICATION** (a.k.a. authentication): Authenticating a claimed identity (is this person who he/she claims to be?).\n",
    "\n",
    "* **IDENTIFICATION**: Associate a particular individual with an identity (who is this unidentified individual?).\n",
    "\n",
    "This document is structured as follows:\n",
    "\n",
    "- [I. Reading the data](#I.-Reading-the-data)\n",
    "- [II. Validation of verification system](#II.-Validation-of-verification-system)\n",
    "- [III. Validation of identification system](#III.-Validation-of-identification-system)\n",
    "- [IV. Assignment Instructions](#IV.-Assignment-Instructions)\n",
    "\n",
    "\n",
    "Code examples will be provided below. You can and are invited to adapt these at your will (different parameter settings, different choices of algorithmic components). The code examples in this assignment are just sekeleton code,  **adapt where needed! And try to keep things structured!**"
   ]
  },
  {
   "cell_type": "code",
   "execution_count": 12,
   "outputs": [
    {
     "name": "stdout",
     "output_type": "stream",
     "text": [
      "The autoreload extension is already loaded. To reload it, use:\n",
      "  %reload_ext autoreload\n"
     ]
    }
   ],
   "source": [
    "%load_ext autoreload"
   ],
   "metadata": {
    "collapsed": false,
    "pycharm": {
     "name": "#%%\n"
    }
   }
  },
  {
   "cell_type": "code",
   "execution_count": 13,
   "outputs": [],
   "source": [
    "%autoreload 2"
   ],
   "metadata": {
    "collapsed": false,
    "pycharm": {
     "name": "#%%\n"
    }
   }
  },
  {
   "cell_type": "code",
   "execution_count": 14,
   "metadata": {
    "collapsed": true,
    "jupyter": {
     "outputs_hidden": true
    }
   },
   "outputs": [],
   "source": [
    "# Install and import the required python packages to run this notebook. Feel free to add more packages whenever needed.\n",
    "\n",
    "import numpy as np\n",
    "import matplotlib.pyplot as plt\n",
    "import seaborn as sns\n",
    "# the following meta-command is required to get plots displayed in notebooks\n",
    "%matplotlib inline\n",
    "\n",
    "# package for reading xml files\n",
    "import xml.etree.ElementTree as ET\n",
    "\n",
    "import os\n",
    "\n",
    "# package for data analysis with fast and flexible data structures\n",
    "import pandas as pd\n",
    "from icecream import ic\n",
    "\n",
    "# package to show a nice graphical progress-bar for lengthy calculations\n",
    "# docu and installation on https://tqdm.github.io\n",
    "# if you have difficulties installing this package: \n",
    "# - make sure your jupyter lab is up-to-date\n",
    "# - https://github.com/tqdm/tqdm/issues/394#issuecomment-384743637\n",
    "# - consider just leaving it out (just remove the 'tqdm_notebook' in the code)\n",
    "from tqdm.notebook import tqdm as tqdm_notebook\n",
    "\n",
    "# import local modules for reading and converting BSSR1 fingerprint score data\n",
    "import src.BSSR1 as BSSR1\n",
    "import pickle\n",
    "\n",
    "# metrics and dataframe tools\n",
    "import src.metrics as metrics"
   ]
  },
  {
   "cell_type": "markdown",
   "metadata": {},
   "source": [
    "<div class=\"alert alert-block alert-info\">\n",
    "<b>Tip:</b> \n",
    "Many operations have already been implemented in <a href=\"https://docs.scipy.org/doc/numpy/index.html\">SciPy</a>, feel free to use them or any other unless explicitely stated not to in the assignment.</div>"
   ]
  },
  {
   "cell_type": "markdown",
   "metadata": {},
   "source": [
    "## I. Reading the data\n",
    "In this assignment we focus on the validation of a pre-exising biometric system. We will make use of actual predicted fingerprint similarity scores, from the left and right index fingers. This bypasses all steps of preprocessing, feature extraction and matching and allows us to concentrate on the score evaluation procedures. The scores are the result of comparing an enrolled user's image with that of the same (genuine scores) or another user (impostor scores). The data (biometrics scores set BSSR1) are made available through the American National Institute of Standards and Technologies [(NIST)](https://www.nist.gov/itl/iad/image-group/nist-biometric-scores-set-bssr1). They are provided as part of your assignment folder in the `data/fing-x-fing` subfolder. \n",
    "\n",
    "In this code example we will compare the performance of a biometric system that was based on the right index finger to a biometric system based on the left index finger. These systems are referred to as `ri` and `li` respectively in both code and text.  "
   ]
  },
  {
   "cell_type": "markdown",
   "metadata": {},
   "source": [
    "### 1.1. Loading the similarity matrix and reading the genuine and impostor scores\n",
    "We provide you with the code to read the scores from the files (normally you can leave this code as-is).\n",
    "\n",
    "The code consists of 2 steps that are executed for both the `ri` and `li` system:\n",
    "1. Scores are converted to similarity matrices. To simplify the task we have provided you with the similarity matrices. You need to load the similarity matrices with the genuine scores on the diagonal and the impostor scores on the off-diagonal elements.  \n",
    "2. Convert the original scores to a linear list of scores with associated labels of genuine or impostor (simplifies use of [scikit-learn](https://scikit-learn.org/stable/index.html))\n",
    "\n"
   ]
  },
  {
   "cell_type": "code",
   "execution_count": 15,
   "metadata": {
    "collapsed": true,
    "tags": []
   },
   "outputs": [],
   "source": [
    "# STEP 1: loading the similarity matrices for left and right index fingers\n",
    "with open('./data/li_similarity_matrix.pickle', 'rb') as f:\n",
    "    li_similarity_matrix = pickle.load(f)\n",
    "with open('./data/ri_similarity_matrix.pickle', 'rb') as f:\n",
    "    ri_similarity_matrix = pickle.load(f)"
   ]
  },
  {
   "cell_type": "code",
   "execution_count": 16,
   "metadata": {
    "collapsed": true,
    "tags": []
   },
   "outputs": [],
   "source": [
    "# STEP 2: convert to genuine and impostor scores, the *_genuine_id provides a mask for the genuine scores\n",
    "li_genuine_id, li_scores = BSSR1.sim2scores(li_similarity_matrix)\n",
    "ri_genuine_id, ri_scores = BSSR1.sim2scores(ri_similarity_matrix)"
   ]
  },
  {
   "cell_type": "code",
   "execution_count": 17,
   "outputs": [
    {
     "name": "stdout",
     "output_type": "stream",
     "text": [
      "        li_genuine  li_scores  ri_genuine  ri_scores\n",
      "0              1.0   0.183206         1.0   0.125874\n",
      "1              1.0   0.270992         1.0   0.353147\n",
      "2              1.0   0.064885         1.0   0.101399\n",
      "3              1.0   0.041985         1.0   0.209790\n",
      "4              1.0   0.377863         1.0   0.367133\n",
      "...            ...        ...         ...        ...\n",
      "999995         0.0   0.011450         0.0   0.013986\n",
      "999996         0.0   0.030534         0.0   0.000000\n",
      "999997         0.0   0.030534         0.0   0.024476\n",
      "999998         0.0   0.022901         0.0   0.010490\n",
      "999999         0.0   0.011450         0.0   0.010490\n",
      "\n",
      "[1000000 rows x 4 columns]\n"
     ]
    }
   ],
   "source": [
    "columns=['li_genuine', 'li_scores', 'ri_genuine', 'ri_scores']\n",
    "data_list = [li_genuine_id, li_scores, ri_genuine_id, ri_scores]\n",
    "df = metrics.generate_dataframe(columns, data_list)\n",
    "print(df)"
   ],
   "metadata": {
    "collapsed": false,
    "pycharm": {
     "name": "#%%\n"
    }
   }
  },
  {
   "cell_type": "markdown",
   "metadata": {},
   "source": [
    "<div class=\"alert alert-block alert-info\">\n",
    "<b>Tip:</b> \n",
    "In this assignment we focus only on evaluating biometric systems. It is in your best interest to write your code such that it can easily be reused in the upcoming assignments, where you will have to develop entire biometric system pipelines.</div>"
   ]
  },
  {
   "cell_type": "markdown",
   "metadata": {},
   "source": [
    "## II. Validation of verification system\n",
    "\n",
    "[1]: <https://link.springer.com/book/10.1007/978-0-387-77326-1> ('Introduction to Biometrics' by AK Jain et al)\n",
    "[2]: <https://machinelearningmastery.com/roc-curves-and-precision-recall-curves-for-classification-in-python/> (How and When to Use ROC Curves and Precision-Recall Curves for Classification in Python)\n",
    "\n",
    "The performance of a verification scenario can be expressed in a number of ways (see [Jain et al.][1] section 1.4.1.1 for more information). In essence one has a binary classification problem: is it the claimed identity or not? \n",
    "\n",
    "We denote our classes as:\n",
    "<ol start=\"0\">\n",
    "  <li>Impostor (False),</li>\n",
    "  <li>Genuine (True).</li>\n",
    "</ol>\n",
    "\n",
    "Furthermore, we represent the set of scores as s, the imposter event as $I$ and a genuine event as $G$."
   ]
  },
  {
   "cell_type": "code",
   "execution_count": 18,
   "outputs": [
    {
     "name": "stdout",
     "output_type": "stream",
     "text": [
      "0.0    0.999\n",
      "1.0    0.001\n",
      "Name: li_genuine, dtype: float64\n",
      "0.0    0.999\n",
      "1.0    0.001\n",
      "Name: ri_genuine, dtype: float64\n"
     ]
    }
   ],
   "source": [
    "print(df['li_genuine'].value_counts(normalize=True))\n",
    "print(df['ri_genuine'].value_counts(normalize=True))"
   ],
   "metadata": {
    "collapsed": false,
    "pycharm": {
     "name": "#%%\n"
    }
   }
  },
  {
   "cell_type": "markdown",
   "metadata": {},
   "source": [
    "### 1. Evaluation using FMR, FRR, ROC and Precision/Recall curves\n",
    "\n",
    "[1]: <https://link.springer.com/book/10.1007/978-0-387-77326-1> ('Introduction to Biometrics' by AK Jain et al)\n",
    "[2]: <https://machinelearningmastery.com/roc-curves-and-precision-recall-curves-for-classification-in-python/> (How and When to Use ROC Curves and Precision-Recall Curves for Classification in Python)\n",
    "\n",
    "\n",
    "\n",
    "#### 1.1 Genuine and impostor score distributions\n",
    "Given the genuine and impostor scores (from section I), we can plot the imposter $p(s | I)$ and genuine $p(s | G)$ distribution to gain some first insights in the system. The result should look something like this:\n",
    "\n",
    "<p align=\"center\">\n",
    "    <img src=\"img/ScoreDistributions.png\" width=\"250\" height=\"auto\"/>\n",
    "</p>\n"
   ]
  },
  {
   "cell_type": "markdown",
   "metadata": {},
   "source": [
    "<div class=\"alert alert-block alert-success\">\n",
    "<b>Q1: </b> Score distributions\n",
    "<ul>\n",
    "  <li>Plot the genuine and impostor score distributions in a single plot.</li>\n",
    "  <li>Do you need to normalize the distributions? Why (not)?</li>\n",
    "  <li>Describe qualitatively this combined plot (hint: limit the score range for better understanding)</li>\n",
    "</ul>  \n",
    "</div>"
   ]
  },
  {
   "cell_type": "code",
   "execution_count": 19,
   "outputs": [],
   "source": [
    "from scipy.stats import zscore"
   ],
   "metadata": {
    "collapsed": false,
    "pycharm": {
     "name": "#%%\n"
    }
   }
  },
  {
   "cell_type": "code",
   "execution_count": 20,
   "outputs": [],
   "source": [
    "# df['li_scores_norm'] = zscore(df['li_scores'])"
   ],
   "metadata": {
    "collapsed": false,
    "pycharm": {
     "name": "#%%\n"
    }
   }
  },
  {
   "cell_type": "code",
   "execution_count": 21,
   "outputs": [],
   "source": [
    "genuine_li = df['li_scores'][df['li_genuine'] == 1]\n",
    "imposter_li = df['li_scores'][df['li_genuine'] == 0]\n",
    "genuine_ri = df['ri_scores'][df['ri_genuine'] == 1]\n",
    "imposter_ri = df['ri_scores'][df['ri_genuine'] == 0]"
   ],
   "metadata": {
    "collapsed": false,
    "pycharm": {
     "name": "#%%\n"
    }
   }
  },
  {
   "cell_type": "code",
   "execution_count": 27,
   "outputs": [
    {
     "data": {
      "text/plain": "<Figure size 1080x360 with 2 Axes>",
      "image/png": "[encoded data removed]"
     },
     "metadata": {
      "needs_background": "light"
     },
     "output_type": "display_data"
    }
   ],
   "source": [
    "# PLOTTING\n",
    "figure, [ax_li, ax_ri] = plt.subplots(1, 2, figsize=(15, 5))\n",
    "# left index\n",
    "metrics.plot_score_distribution(ax_li, imposter_li, genuine_li, \"Left Index\")\n",
    "# right index\n",
    "metrics.plot_score_distribution(ax_ri, imposter_ri, genuine_ri, \"Right Index\")"
   ],
   "metadata": {
    "collapsed": false,
    "pycharm": {
     "name": "#%%\n"
    }
   }
  },
  {
   "cell_type": "code",
   "execution_count": null,
   "metadata": {
    "collapsed": true,
    "jupyter": {
     "outputs_hidden": true
    }
   },
   "outputs": [],
   "source": [
    "\"\"\"Plot the genuine and imposter score distributions.\"\"\"\n",
    "sns.distplot(imposter_li, label='Imposter')\n",
    "# sns.distplot(genuine_li,  kde=False, label='Genuine', norm_hist=True)\n",
    "\n",
    "# Plot formatting\n",
    "plt.legend(prop={'size': 12})\n",
    "\n",
    "# Adding labels and titles to the plot\n",
    "plt.xlabel('Score')\n",
    "plt.ylabel('Frequency')\n",
    "plt.title('Score Distribution')\n",
    "plt.grid(True)"
   ]
  },
  {
   "cell_type": "markdown",
   "metadata": {},
   "source": [
    "#### 2. FMR, FRR and Receiver Operating Characteristic (ROC) curve\n",
    "\n",
    "The 'false accept' and 'false reject' regions in the illustration above are quantified using the False Match/Acceptance Rates (FMR/FAR) and False Non-Match/Rejections Rates (FNMR/FRR). The FMR and FNMR can easily be computed given the previously calculated probability distributions and a threshold value $\\eta$. Practically this boils down to a counting problem, having $\\mathcal{I}$ the indicator function (return 1 if x is true, else 0) we can compute:\n",
    "$$\n",
    "FMR(\\eta) = p(s \\geq \\eta | I) \\approx \\frac{1}{|I|} \\sum_{s \\in I} \\mathcal{I}(s \\geq \\eta),\n",
    "$$\n",
    "$$\n",
    "FRR(\\eta) = p(s < \\eta | G) \\approx \\frac{1}{|G|} \\sum_{s \\in G} \\mathcal{I}(s < \\eta).\n",
    "$$\n",
    "\n",
    "We can also compute the Genuine Acceptance Rate (GAR)/True Match Rate (TMR) as:\n",
    "$$\n",
    "GAR(\\eta) = p(s \\geq \\eta | G) = 1 - FRR(\\eta).\n",
    "$$\n",
    "\n",
    "Note that choosing a threshold is always a tradeof between FMR and FNMR. <br>\n",
    "<img src=\"img/FAR_FRR.png\" width=\"300\" height=\"auto\" align=\"center\"/>\n",
    "\n",
    "To observe the impact of the threshold value, one often plots a [Receiver Operating Characteristic (ROC)](https://en.wikipedia.org/wiki/Receiver_operating_characteristic) curve. Usually in these curves the GAR/TMR is plotted against the FMR for different decision threshold values $\\eta$. For those familiar with binary classification systems outside of the biometrics literature; the GAR/TMR is often referred to as the True Positive Rate (TPR), sensitivity or recall and FMR is also known as the False Positive Rate (FPR) or the False Accept Rate (FAR). \n",
    "\n",
    "<img src=\"img/ROC.png\" width=\"700\" height=\"auto\" align=\"center\"/>"
   ]
  },
  {
   "cell_type": "markdown",
   "metadata": {},
   "source": [
    "<div class=\"alert alert-block alert-success\">\n",
    "<b>Q2: </b> ROC Curves\n",
    "<ul>\n",
    "    <li>Calculate FPR, TPR from the matching scores.</li>\n",
    "    <li>Plot FAR and FRR as a function of matching scores.</li>\n",
    "    <li>Plot the ROC curve. Plot for linear and logarithmic scale if needed. What do you observe?</li>\n",
    "    <li>Plot the Detection Error Trade-off (DET) curve. How does it compare to ROC?</li>\n",
    "</ul>  \n",
    "</div>\n",
    "\n",
    "\n",
    "<div class=\"alert alert-block alert-info\">\n",
    "<b>Tip:</b> \n",
    "We highly recommend you use the <a href=\"https://scikit-learn.org/stable/index.html\">scikit-learn</a> package, it contains standard and advanced routines for machine learning, including classificaton and validation algorithms.\n",
    "</div>"
   ]
  },
  {
   "cell_type": "markdown",
   "source": [
    "##### Calculate FPR, TPR from the matching scores"
   ],
   "metadata": {
    "collapsed": false
   }
  },
  {
   "cell_type": "code",
   "execution_count": 29,
   "outputs": [],
   "source": [
    "score, y_true = df['li_genuine'], df['li_scores']\n",
    "score_ri, y_true_ri = df['ri_genuine'], df['ri_scores']"
   ],
   "metadata": {
    "collapsed": false,
    "pycharm": {
     "name": "#%%\n"
    }
   }
  },
  {
   "cell_type": "code",
   "execution_count": 31,
   "metadata": {
    "collapsed": true,
    "jupyter": {
     "outputs_hidden": true
    }
   },
   "outputs": [],
   "source": [
    "fpr_det, fnr_det, tpr_det, threshold_det = metrics.compute_fpr_fnr_tpr_from_det_curve(score, y_true)\n",
    "fpr_roc, fnr_roc, tpr_roc, threshold_roc = metrics.compute_fpr_fnr_tpr_from_roc_curve(score, y_true)\n",
    "\n",
    "fpr_det_ri, fnr_det_ri, tpr_det_ri, threshold_det_ri = metrics.compute_fpr_fnr_tpr_from_det_curve(score_ri, y_true_ri)\n",
    "fpr_roc_ri, fnr_roc_ri, tpr_roc_ri, threshold_roc_ri = metrics.compute_fpr_fnr_tpr_from_roc_curve(score_ri, y_true_ri)\n",
    "\n",
    "# print(np.intersect1d(tpr, tpr_det))\n",
    "# print(fpr.shape, fpr_roc.shape, np.intersect1d(fpr, fpr_roc).shape) -> (44,) (149,) (36,)"
   ]
  },
  {
   "cell_type": "markdown",
   "source": [
    "##### Plot FAR and FRR as a function of the decision threshold\n",
    "- FAR <=> FPR\n",
    "- FRR <=> FNR <=> FN/P <=> 1-TPR"
   ],
   "metadata": {
    "collapsed": false
   }
  },
  {
   "cell_type": "code",
   "execution_count": 33,
   "outputs": [
    {
     "name": "stdout",
     "output_type": "stream",
     "text": [
      "               fpr    fnr\n",
      "0.015267  0.952052  0.000\n",
      "0.019084  0.831070  0.004\n",
      "0.022901  0.662322  0.012\n",
      "0.026718  0.489827  0.019\n",
      "0.030534  0.346642  0.028\n",
      "0.034351  0.239407  0.040\n",
      "0.038168  0.164376  0.054\n",
      "0.041985  0.112989  0.069\n",
      "0.045802  0.077935  0.079\n",
      "0.049618  0.053758  0.088\n",
      "0.053435  0.037400  0.097\n",
      "0.057252  0.026062  0.108\n",
      "0.061069  0.018246  0.118\n",
      "0.064885  0.012826  0.128\n",
      "0.068702  0.009079  0.135\n",
      "0.072519  0.006490  0.145\n",
      "0.076336  0.004616  0.152\n",
      "0.080153  0.003276  0.159\n",
      "0.083969  0.002303  0.170\n",
      "0.087786  0.001618  0.179\n",
      "0.091603  0.001159  0.188\n",
      "0.095420  0.000792  0.196\n",
      "0.099237  0.000541  0.204\n",
      "0.103053  0.000387  0.216\n",
      "0.106870  0.000277  0.219\n",
      "0.110687  0.000200  0.228\n",
      "0.114504  0.000143  0.240\n",
      "0.118321  0.000097  0.255\n",
      "0.122137  0.000073  0.263\n",
      "0.125954  0.000043  0.274\n",
      "0.129771  0.000033  0.285\n",
      "0.133588  0.000023  0.296\n",
      "0.137405  0.000014  0.304\n",
      "0.141221  0.000006  0.317\n",
      "0.145038  0.000006  0.331\n",
      "0.148855  0.000004  0.339\n",
      "0.152672  0.000001  0.352\n",
      "0.156489  0.000001  0.364\n",
      "0.160305  0.000001  0.369\n",
      "0.164122  0.000001  0.377\n",
      "0.167939  0.000001  0.385\n",
      "0.171756  0.000001  0.390\n",
      "0.175573  0.000001  0.399\n",
      "0.179389  0.000000  0.408\n"
     ]
    }
   ],
   "source": [
    "df_decision_threshold_fpr_fnr = metrics.generate_dataframe(\n",
    "    columns=['fpr', 'fnr'], data_list=[fpr_det, fnr_det], index_values=threshold_det)\n",
    "df_decision_threshold_fpr_fnr_ri = metrics.generate_dataframe(\n",
    "    columns=['fpr', 'fnr'], data_list=[fpr_det_ri, fnr_det_ri], index_values=threshold_det_ri)\n",
    "print(df_decision_threshold_fpr_fnr)"
   ],
   "metadata": {
    "collapsed": false,
    "pycharm": {
     "name": "#%%\n"
    }
   }
  },
  {
   "cell_type": "code",
   "execution_count": 36,
   "metadata": {
    "collapsed": true,
    "jupyter": {
     "outputs_hidden": true
    }
   },
   "outputs": [
    {
     "data": {
      "text/plain": "<Figure size 1080x360 with 2 Axes>",
      "image/png": "[encoded data removed]"
     },
     "metadata": {
      "needs_background": "light"
     },
     "output_type": "display_data"
    }
   ],
   "source": [
    "figure, [ax_li, ax_ri] = plt.subplots(1, 2, figsize=(15, 5))\n",
    "metrics.plot_decision_threshold(df_decision_threshold_fpr_fnr, \"Left finger\", ax_li)\n",
    "metrics.plot_decision_threshold(df_decision_threshold_fpr_fnr_ri, \"Right finger\", ax_ri)"
   ]
  },
  {
   "cell_type": "markdown",
   "source": [],
   "metadata": {
    "collapsed": false
   }
  },
  {
   "cell_type": "markdown",
   "source": [
    "##### plot the ROC curve (TPR against the FPR for different threshold values)"
   ],
   "metadata": {
    "collapsed": false
   }
  },
  {
   "cell_type": "code",
   "execution_count": 39,
   "metadata": {
    "collapsed": true,
    "jupyter": {
     "outputs_hidden": true
    }
   },
   "outputs": [
    {
     "data": {
      "text/plain": "<Figure size 1080x360 with 2 Axes>",
      "image/png": "[encoded data removed]"
     },
     "metadata": {
      "needs_background": "light"
     },
     "output_type": "display_data"
    }
   ],
   "source": [
    "# prepare plots\n",
    "figure, [ax_li, ax_ri] = plt.subplots(1, 2, figsize=(15, 5))\n",
    "metrics.plot_roc_curve(fpr_roc, tpr_roc, ax_li, \"Left Finger\")\n",
    "metrics.plot_roc_curve(fpr_roc_ri, tpr_roc_ri, ax_ri, \"Right Finger\")\n",
    "\n",
    "plt.show()"
   ]
  },
  {
   "cell_type": "markdown",
   "source": [
    "##### plot the DET curve (FRR (=1-tpr) against the FAR for different threshold values)"
   ],
   "metadata": {
    "collapsed": false
   }
  },
  {
   "cell_type": "code",
   "execution_count": 42,
   "outputs": [
    {
     "data": {
      "text/plain": "<Figure size 1080x360 with 2 Axes>",
      "image/png": "[encoded data removed]"
     },
     "metadata": {
      "needs_background": "light"
     },
     "output_type": "display_data"
    }
   ],
   "source": [
    "# prepare plots\n",
    "figure, [ax_li, ax_ri] = plt.subplots(1, 2, figsize=(15, 5))\n",
    "metrics.plot_det_curve(fpr_det, fnr_det, ax_li, \"Left Finger\")\n",
    "metrics.plot_det_curve(fpr_det_ri, fnr_det_ri, ax_ri, \"Right Finger\")\n",
    "plt.show()"
   ],
   "metadata": {
    "collapsed": false,
    "pycharm": {
     "name": "#%%\n"
    }
   }
  },
  {
   "cell_type": "markdown",
   "metadata": {},
   "source": [
    "#### 3. F1 and accuracy as metrics\n",
    "\n",
    "While biometric systems are, traditionally, evaluated using FMR and FRR and ROC/DET curves, we can also have a look at traditional [classification metrics](https://scikit-learn.org/stable/modules/model_evaluation.html#classification-metrics) such as classification accuracy (or error) and F1 measure. "
   ]
  },
  {
   "cell_type": "markdown",
   "metadata": {},
   "source": [
    "<div class=\"alert alert-block alert-success\">\n",
    "<b>Q3: </b> Classification Metrics\n",
    "<ul>\n",
    "    <li>Plot F1 and accuracy as a function of the decision thresholds on the similarity score.</li>\n",
    "    <li>Calculate the threshold and accuracy for which F1 is maximal. Is it an interesting operating point?</li>\n",
    "    <li>Do the same for the classification error (accuracy). Is there a difference?</li>\n",
    "    <li>Is accuracy a good performance metric in this case?</li>\n",
    "</ul>  \n",
    "</div>\n",
    "\n",
    "<div class=\"alert alert-block alert-info\">\n",
    "<b>Tip:</b> \n",
    "We highly recommend you use the <a href=\"https://scikit-learn.org/stable/modules/model_evaluation.html#classification-metrics\">scikit-learn classification metrics</a> to assist.\n",
    "</div>\n"
   ]
  },
  {
   "cell_type": "code",
   "execution_count": null,
   "outputs": [],
   "source": [
    "from sklearn.metrics import f1_score, accuracy_score, precision_recall_curve"
   ],
   "metadata": {
    "collapsed": false,
    "pycharm": {
     "name": "#%%\n"
    }
   }
  },
  {
   "cell_type": "code",
   "execution_count": 43,
   "outputs": [
    {
     "data": {
      "text/plain": "           li_genuine       li_scores      ri_genuine       ri_scores\ncount  1000000.000000  1000000.000000  1000000.000000  1000000.000000\nmean         0.001000        0.027124        0.001000        0.024524\nstd          0.031607        0.014787        0.031607        0.014781\nmin          0.000000        0.000000        0.000000        0.000000\n25%          0.000000        0.019084        0.000000        0.017483\n50%          0.000000        0.022901        0.000000        0.020979\n75%          0.000000        0.030534        0.000000        0.027972\nmax          1.000000        1.000000        1.000000        1.000000",
      "text/html": "<div>\n<style scoped>\n    .dataframe tbody tr th:only-of-type {\n        vertical-align: middle;\n    }\n\n    .dataframe tbody tr th {\n        vertical-align: top;\n    }\n\n    .dataframe thead th {\n        text-align: right;\n    }\n</style>\n<table border=\"1\" class=\"dataframe\">\n  <thead>\n    <tr style=\"text-align: right;\">\n      <th></th>\n      <th>li_genuine</th>\n      <th>li_scores</th>\n      <th>ri_genuine</th>\n      <th>ri_scores</th>\n    </tr>\n  </thead>\n  <tbody>\n    <tr>\n      <th>count</th>\n      <td>1000000.000000</td>\n      <td>1000000.000000</td>\n      <td>1000000.000000</td>\n      <td>1000000.000000</td>\n    </tr>\n    <tr>\n      <th>mean</th>\n      <td>0.001000</td>\n      <td>0.027124</td>\n      <td>0.001000</td>\n      <td>0.024524</td>\n    </tr>\n    <tr>\n      <th>std</th>\n      <td>0.031607</td>\n      <td>0.014787</td>\n      <td>0.031607</td>\n      <td>0.014781</td>\n    </tr>\n    <tr>\n      <th>min</th>\n      <td>0.000000</td>\n      <td>0.000000</td>\n      <td>0.000000</td>\n      <td>0.000000</td>\n    </tr>\n    <tr>\n      <th>25%</th>\n      <td>0.000000</td>\n      <td>0.019084</td>\n      <td>0.000000</td>\n      <td>0.017483</td>\n    </tr>\n    <tr>\n      <th>50%</th>\n      <td>0.000000</td>\n      <td>0.022901</td>\n      <td>0.000000</td>\n      <td>0.020979</td>\n    </tr>\n    <tr>\n      <th>75%</th>\n      <td>0.000000</td>\n      <td>0.030534</td>\n      <td>0.000000</td>\n      <td>0.027972</td>\n    </tr>\n    <tr>\n      <th>max</th>\n      <td>1.000000</td>\n      <td>1.000000</td>\n      <td>1.000000</td>\n      <td>1.000000</td>\n    </tr>\n  </tbody>\n</table>\n</div>"
     },
     "execution_count": 43,
     "metadata": {},
     "output_type": "execute_result"
    }
   ],
   "source": [
    "df.describe()"
   ],
   "metadata": {
    "collapsed": false,
    "pycharm": {
     "name": "#%%\n"
    }
   }
  },
  {
   "cell_type": "code",
   "execution_count": 53,
   "metadata": {
    "collapsed": true,
    "tags": []
   },
   "outputs": [
    {
     "name": "stdout",
     "output_type": "stream",
     "text": [
      "                f1       acc\n",
      "0.015267  0.002098  0.048900\n",
      "0.019084  0.002394  0.169757\n",
      "0.022901  0.002977  0.338328\n",
      "0.026718  0.003993  0.510644\n",
      "0.030534  0.005582  0.653677\n",
      "...            ...       ...\n",
      "0.851145  0.009950  0.999005\n",
      "0.858779  0.007968  0.999004\n",
      "0.923664  0.005982  0.999003\n",
      "0.935115  0.003992  0.999002\n",
      "1.000000  0.001998  0.999001\n",
      "\n",
      "[188 rows x 2 columns]\n"
     ]
    }
   ],
   "source": [
    "\"\"\"Plot F1 and accuracy as a function of the decision thresholds on the similarity score.\"\"\"\n",
    "# Hint: evaluating for ± 50 threshold values should suffice\n",
    "precision, recall, f1, thresholds_values = metrics.compute_precision_recall_f1(score, y_true, True)\n",
    "accuracy = metrics.calculate_accuracy(genuine_li.to_numpy(), imposter_li.to_numpy(), thresholds_values)\n",
    "\n",
    "df_classification_metrics = metrics.generate_dataframe(\n",
    "    columns=['f1', 'acc'], data_list=[f1, accuracy], index_values=thresholds_values)\n",
    "print(df_classification_metrics)"
   ]
  },
  {
   "cell_type": "code",
   "execution_count": 59,
   "outputs": [],
   "source": [
    "precision_ri, recall_ri, f1_ri, thresholds_values_ri = metrics.compute_precision_recall_f1(score_ri, y_true_ri, True)\n",
    "accuracy_ri = metrics.calculate_accuracy(genuine_ri.to_numpy(), imposter_ri.to_numpy(), thresholds_values_ri)\n",
    "\n",
    "df_classification_metrics_ri = metrics.generate_dataframe(\n",
    "    columns=['f1', 'acc'], data_list=[f1_ri, accuracy_ri], index_values=thresholds_values_ri)"
   ],
   "metadata": {
    "collapsed": false,
    "pycharm": {
     "name": "#%%\n"
    }
   }
  },
  {
   "cell_type": "code",
   "execution_count": 60,
   "outputs": [
    {
     "data": {
      "text/plain": "<Figure size 1080x360 with 2 Axes>",
      "image/png": "[encoded data removed]"
     },
     "metadata": {
      "needs_background": "light"
     },
     "output_type": "display_data"
    }
   ],
   "source": [
    "figure, [ax_li, ax_ri] = plt.subplots(1, 2, figsize=(15, 5))\n",
    "metrics.plot_decision_threshold_f1_acc(df_classification_metrics, \"Left Finger\", ax_li)\n",
    "metrics.plot_decision_threshold_f1_acc(df_classification_metrics_ri, \"Right Finger\", ax_ri)"
   ],
   "metadata": {
    "collapsed": false,
    "pycharm": {
     "name": "#%%\n"
    }
   }
  },
  {
   "cell_type": "code",
   "execution_count": 62,
   "metadata": {
    "collapsed": true,
    "tags": []
   },
   "outputs": [
    {
     "name": "stderr",
     "output_type": "stream",
     "text": [
      "ic| f1_max_t: 0.12595419847328243, f1_max_t_ri: 0.12237762237762238\n"
     ]
    },
    {
     "data": {
      "text/plain": "(0.12595419847328243, 0.12237762237762238)"
     },
     "execution_count": 62,
     "metadata": {},
     "output_type": "execute_result"
    }
   ],
   "source": [
    "\"\"\"Calculate the threshold for which F1 is maximal.\"\"\"\n",
    "f1_max_t = df_classification_metrics['f1'].idxmax()\n",
    "f1_max_t_ri = df_classification_metrics_ri['f1'].idxmax()\n",
    "ic(f1_max_t, f1_max_t_ri)"
   ]
  },
  {
   "cell_type": "code",
   "execution_count": 63,
   "metadata": {
    "collapsed": true,
    "jupyter": {
     "outputs_hidden": true
    }
   },
   "outputs": [
    {
     "name": "stderr",
     "output_type": "stream",
     "text": [
      "ic| acc_max_t: 0.12595419847328243, acc_max_t_ri: 0.12237762237762238\n"
     ]
    },
    {
     "data": {
      "text/plain": "(0.12595419847328243, 0.12237762237762238)"
     },
     "execution_count": 63,
     "metadata": {},
     "output_type": "execute_result"
    }
   ],
   "source": [
    "\"\"\"Do the same for the classification error (or accuracy)\"\"\"\n",
    "acc_max_t = df_classification_metrics['acc'].idxmax()\n",
    "acc_max_t_ri = df_classification_metrics_ri['acc'].idxmax()\n",
    "ic(acc_max_t, acc_max_t_ri)"
   ]
  },
  {
   "cell_type": "markdown",
   "metadata": {},
   "source": [
    "#### 4. AUC and EER as summary measures\n",
    "\n",
    "The overall performance (over all threshold settings) is typically expressed through:\n",
    "\n",
    "* The Area Under the Curve (AUC) (with TPR((y-axis) vs FPR (x-axis))\n",
    "\n",
    "<img src=\"img/AUC.png\" width=\"250\" height=\"auto\"/>\n",
    "\n",
    "The AUC can be used to compare different systems. The larger this number, the better.\n",
    "However, since it is a summary measure, always inspect the full ROC curve to make decisions about performance given operating conditions (in wich FRR, FAR regime to work e.g.).\n",
    "\n",
    "* The Equal Error Rate (EER), which is the point on the ROC-curve where FAR(FMR) equals FRR (1-TAR). A lower EER value indicates better performance. \n",
    "\n",
    "<img src=\"img/EER.png\" width=\"300\" height=\"300\"/>"
   ]
  },
  {
   "cell_type": "markdown",
   "metadata": {},
   "source": [
    "<div class=\"alert alert-block alert-success\">\n",
    "<b>Q4: </b> AUC, EER and alternatives\n",
    "<ul>\n",
    "    <li>Calculate ROC AUC. Is this a good metric? What does it reveal about the system? </li>\n",
    "    <li>Calculate (by approximation) the EER and plot it on the FAR-FRR curve. Is this a good peration point?</li>\n",
    "    <li>Calculate the decision threshold for which the sum of FRR and FAR is minimal. Is this point similar to the total classification error?</li> \n",
    "    <li>Can you suggest other strategies that give you an \"optimal\" performance? Calculate and discuss their (de)merits.</li>\n",
    "</ul>  \n",
    "</div>\n"
   ]
  },
  {
   "cell_type": "code",
   "execution_count": 65,
   "outputs": [],
   "source": [
    "from sklearn.metrics import roc_auc_score"
   ],
   "metadata": {
    "collapsed": false,
    "pycharm": {
     "name": "#%%\n"
    }
   }
  },
  {
   "cell_type": "code",
   "execution_count": 67,
   "metadata": {
    "collapsed": true,
    "jupyter": {
     "outputs_hidden": true
    }
   },
   "outputs": [
    {
     "name": "stderr",
     "output_type": "stream",
     "text": [
      "ic| roc_au: 0.9712470650650651, roc_au_ri: 0.9826611286286288\n"
     ]
    },
    {
     "data": {
      "text/plain": "(0.9712470650650651, 0.9826611286286288)"
     },
     "execution_count": 67,
     "metadata": {},
     "output_type": "execute_result"
    }
   ],
   "source": [
    "\"\"\"Calculate the ROC AUC.\"\"\"\n",
    "roc_au = roc_auc_score(score, y_true)\n",
    "roc_au_ri = roc_auc_score(score_ri, y_true_ri)\n",
    "ic(roc_au, roc_au_ri)"
   ]
  },
  {
   "cell_type": "code",
   "execution_count": 74,
   "metadata": {
    "collapsed": true,
    "jupyter": {
     "outputs_hidden": true
    }
   },
   "outputs": [
    {
     "name": "stderr",
     "output_type": "stream",
     "text": [
      "ic| eer_threshold_roc: 0.04580152671755725\n",
      "    eer_threshold_roc_ri: 0.045454545454545456\n"
     ]
    },
    {
     "data": {
      "text/plain": "(0.04580152671755725, 0.045454545454545456)"
     },
     "execution_count": 74,
     "metadata": {},
     "output_type": "execute_result"
    }
   ],
   "source": [
    "\"\"\"Calculate (by approximation) the EER and plot it on the FAR-FRR curve.\"\"\"\n",
    "# hints:\n",
    "#  - avoid using a library that directly computes the EER for this assignment \n",
    "eer_threshold_roc = threshold_roc[np.nanargmin(np.absolute((fnr_roc - fpr_roc)))]\n",
    "eer_threshold_roc_ri = threshold_roc_ri[np.nanargmin(np.absolute((fnr_roc_ri - fpr_roc_ri)))]\n",
    "ic(eer_threshold_roc, eer_threshold_roc_ri)"
   ]
  },
  {
   "cell_type": "code",
   "execution_count": 75,
   "outputs": [
    {
     "name": "stderr",
     "output_type": "stream",
     "text": [
      "ic| result_roc: fpr    0.077935\n",
      "                tpr    0.921000\n",
      "                Name: 0.04580152671755725, dtype: float64\n",
      "    result_roc_ri: fpr    0.054403\n",
      "                   tpr    0.944000\n",
      "                   Name: 0.045454545454545456, dtype: float64\n",
      "    result_det: fpr    0.077935\n",
      "                fnr    0.079000\n",
      "                Name: 0.04580152671755725, dtype: float64\n",
      "    result_roc_ri: fpr    0.054403\n",
      "                   tpr    0.944000\n",
      "                   Name: 0.045454545454545456, dtype: float64\n"
     ]
    },
    {
     "data": {
      "text/plain": "(fpr    0.077935\n tpr    0.921000\n Name: 0.04580152671755725, dtype: float64,\n fpr    0.054403\n tpr    0.944000\n Name: 0.045454545454545456, dtype: float64,\n fpr    0.077935\n fnr    0.079000\n Name: 0.04580152671755725, dtype: float64,\n fpr    0.054403\n tpr    0.944000\n Name: 0.045454545454545456, dtype: float64)"
     },
     "execution_count": 75,
     "metadata": {},
     "output_type": "execute_result"
    }
   ],
   "source": [
    "df_decision_threshold_fpr_fnr_roc = metrics.generate_dataframe(\n",
    "    columns=['fpr', 'tpr'], data_list=[fpr_roc, tpr_roc], index_values=threshold_roc)\n",
    "\n",
    "df_decision_threshold_fpr_fnr_roc_ri = metrics.generate_dataframe(\n",
    "    columns=['fpr', 'tpr'], data_list=[fpr_roc_ri, tpr_roc_ri], index_values=threshold_roc_ri)\n",
    "\n",
    "result_roc = df_decision_threshold_fpr_fnr_roc.loc[eer_threshold_roc]\n",
    "result_det = df_decision_threshold_fpr_fnr.loc[eer_threshold_roc]\n",
    "\n",
    "result_roc_ri = df_decision_threshold_fpr_fnr_roc_ri.loc[eer_threshold_roc_ri]\n",
    "result_det_ri = df_decision_threshold_fpr_fnr_ri.loc[eer_threshold_roc_ri]\n",
    "ic(result_roc, result_roc_ri, result_det, result_roc_ri)"
   ],
   "metadata": {
    "collapsed": false,
    "pycharm": {
     "name": "#%%\n"
    }
   }
  },
  {
   "cell_type": "code",
   "execution_count": 78,
   "outputs": [
    {
     "data": {
      "text/plain": "<Figure size 1080x360 with 2 Axes>",
      "image/png": "[encoded data removed]"
     },
     "metadata": {
      "needs_background": "light"
     },
     "output_type": "display_data"
    }
   ],
   "source": [
    "figure, [ax_li, ax_ri] = plt.subplots(1, 2, figsize=(15, 5))\n",
    "metrics.plot_eer_roc(fpr_roc, tpr_roc, ax_li, result_roc, \"Left Finger\")\n",
    "metrics.plot_eer_roc(fpr_roc_ri, tpr_roc_ri, ax_ri, result_roc_ri, \"Right Finger\")"
   ],
   "metadata": {
    "collapsed": false,
    "pycharm": {
     "name": "#%%\n"
    }
   }
  },
  {
   "cell_type": "code",
   "execution_count": 81,
   "outputs": [
    {
     "data": {
      "text/plain": "<Figure size 1080x360 with 2 Axes>",
      "image/png": "[encoded data removed]"
     },
     "metadata": {
      "needs_background": "light"
     },
     "output_type": "display_data"
    }
   ],
   "source": [
    "figure, [ax_li, ax_ri] = plt.subplots(1, 2, figsize=(15, 5))\n",
    "metrics.plot_eer_det(fpr_roc, fnr_roc, ax_li, result_det, \"Left Finger\")\n",
    "metrics.plot_eer_det(fpr_roc_ri, fnr_roc_ri, ax_ri, result_det_ri, \"Right Finger\")"
   ],
   "metadata": {
    "collapsed": false,
    "pycharm": {
     "name": "#%%\n"
    }
   }
  },
  {
   "cell_type": "code",
   "execution_count": null,
   "metadata": {
    "collapsed": true,
    "jupyter": {
     "outputs_hidden": true
    }
   },
   "outputs": [],
   "source": [
    "\"\"\"Calculate the decision threshold for which the sum of FRR and FAR is minimal.\"\"\"\n",
    "# hint: same as above\n"
   ]
  },
  {
   "cell_type": "markdown",
   "metadata": {},
   "source": [
    "#### 5. Evaluation using Precision and Recall\n",
    "\n",
    "[1]: <https://link.springer.com/book/10.1007/978-0-387-77326-1> ('Introduction to Biometrics' by AK Jain et al)\n",
    "[2]: <https://machinelearningmastery.com/roc-curves-and-precision-recall-curves-for-classification-in-python/> (How and When to Use ROC Curves and Precision-Recall Curves for Classification in Python)\n",
    "[3]: <https://en.wikipedia.org/w/index.php?title=Information_retrieval&oldid=793358396#Average_precision> (Average precision)\n",
    "\n",
    "In a general binary classification setting, one also often presents Precision-Recall curves. PR-curves are sometimes summarized using the [average precision scores][3]. How and when to use ROC or PRC is discussed [here][2]. A more general discussion of these measures is provided [here](https://towardsdatascience.com/beyond-accuracy-precision-and-recall-3da06bea9f6c).  \n",
    "\n",
    "Scikit-Learn provides routines for calculating these curves and numbers as demonstrated in the code below from this [link][2], it also provides an implementation of the [average precision scores](https://scikit-learn.org/stable/modules/generated/sklearn.metrics.average_precision_score.html#sklearn.metrics.average_precision_score).\n"
   ]
  },
  {
   "cell_type": "markdown",
   "metadata": {},
   "source": [
    "<div class=\"alert alert-block alert-success\">\n",
    "<b>Q5: </b> Precision-Recall curves and related summary measures\n",
    "<ul>\n",
    "    <li>Calculate and plot the Precision-Recall curve for this system. What does it reveal about the performance of the system?</li>\n",
    "    <li>Calculate the Area Under the PR-curve. Discuss.</li>\n",
    "    <li>Calculate the average precision scores. Discuss its value.</li> \n",
    "</ul>  \n",
    "</div>\n"
   ]
  },
  {
   "cell_type": "code",
   "execution_count": 82,
   "outputs": [],
   "source": [
    "from sklearn.metrics import average_precision_score, PrecisionRecallDisplay"
   ],
   "metadata": {
    "collapsed": false,
    "pycharm": {
     "name": "#%%\n"
    }
   }
  },
  {
   "cell_type": "code",
   "execution_count": 86,
   "metadata": {
    "collapsed": true,
    "jupyter": {
     "outputs_hidden": true
    }
   },
   "outputs": [
    {
     "data": {
      "text/plain": "<sklearn.metrics._plot.precision_recall_curve.PrecisionRecallDisplay at 0x2012b88ae20>"
     },
     "execution_count": 86,
     "metadata": {},
     "output_type": "execute_result"
    },
    {
     "data": {
      "text/plain": "<Figure size 1080x360 with 2 Axes>",
      "image/png": "[encoded data removed]"
     },
     "metadata": {
      "needs_background": "light"
     },
     "output_type": "display_data"
    }
   ],
   "source": [
    "\"\"\"Calculate and plot the Precision-Recall curve for this system\"\"\"\n",
    "disp = PrecisionRecallDisplay(precision=precision, recall=recall)\n",
    "disp_ri = PrecisionRecallDisplay(precision=precision_ri, recall=recall_ri)\n",
    "\n",
    "figure, [ax_li, ax_ri] = plt.subplots(1, 2, figsize=(15, 5))\n",
    "disp.plot(ax=ax_li)\n",
    "disp_ri.plot(ax=ax_ri)"
   ]
  },
  {
   "cell_type": "code",
   "execution_count": 87,
   "metadata": {
    "collapsed": true,
    "jupyter": {
     "outputs_hidden": true
    }
   },
   "outputs": [
    {
     "data": {
      "text/plain": "[<matplotlib.lines.Line2D at 0x201290df3d0>]"
     },
     "execution_count": 87,
     "metadata": {},
     "output_type": "execute_result"
    },
    {
     "data": {
      "text/plain": "<Figure size 1080x360 with 2 Axes>",
      "image/png": "[encoded data removed]"
     },
     "metadata": {
      "needs_background": "light"
     },
     "output_type": "display_data"
    }
   ],
   "source": [
    "\"\"\"Calculate the Area Under the PR-curve.\"\"\"\n",
    "figure, [ax_li, ax_ri] = plt.subplots(1, 2, figsize=(15, 5))\n",
    "ax_li.plot(recall, precision)\n",
    "ax_ri.plot(recall_ri, precision_ri)"
   ]
  },
  {
   "cell_type": "code",
   "execution_count": 88,
   "metadata": {
    "collapsed": true,
    "jupyter": {
     "outputs_hidden": true
    }
   },
   "outputs": [
    {
     "data": {
      "text/plain": "0.7988972537365139"
     },
     "execution_count": 88,
     "metadata": {},
     "output_type": "execute_result"
    }
   ],
   "source": [
    "\"\"\"Calculate the average precision scores\"\"\"\n",
    "average_precision_score(y_true=score, y_score=y_true)"
   ]
  },
  {
   "cell_type": "code",
   "execution_count": 89,
   "outputs": [
    {
     "data": {
      "text/plain": "0.8595122882879992"
     },
     "execution_count": 89,
     "metadata": {},
     "output_type": "execute_result"
    }
   ],
   "source": [
    "average_precision_score(y_true=score_ri, y_score=y_true_ri)"
   ],
   "metadata": {
    "collapsed": false,
    "pycharm": {
     "name": "#%%\n"
    }
   }
  },
  {
   "cell_type": "markdown",
   "metadata": {},
   "source": [
    "## III. Validation of identification system "
   ]
  },
  {
   "cell_type": "markdown",
   "metadata": {},
   "source": [
    "### Evaluation using CMC curves\n",
    "In an identification scenario one has a 1-to-many or multi-class classification problem. The performance of such a system is typically measured by the Cumulative Match Characteristic (CMC) curve. This curve plots the experimental probability that a correct identification is returned within the top-x (x=1, ..., N) ranked matching scores. \n",
    "\n",
    "<img src=\"img/CMC.jpg\" width=\"500\" height=\"auto\"/>\n",
    "\n",
    "[Bolle et al.](https://ieeexplore.ieee.org/document/1544394) show that:\n",
    "> the CMC is also related to the FAR and FRR of a 1:1 matcher, i.e., the matcher that is used to rank the candidates by sorting the scores. This has as a consequence that when a 1:1 matcher is used for identification, that is, for sorting match scores from high to low, the CMC does not offer any additional information beyond the FAR and FRR curves. The CMC is just another way of displaying the data and can be computed from the FAR and FRR.\n",
    "\n",
    "This paper is not mandatory but those interested can have a look at it.\n",
    "\n",
    "CMC curves can easily be generated once you have the ranked matching scores for every test sample. In our example we can easily calculate it from the similarity matrix (note that in this very particular case we have only one genuine pair per test sample). \n",
    "\n"
   ]
  },
  {
   "cell_type": "markdown",
   "metadata": {},
   "source": [
    "<div class=\"alert alert-block alert-success\">\n",
    "<b>Q6: </b> CMC curves\n",
    "<ul>\n",
    "    <li>Calculate the Cumulative Matching Characteristic curve (implement this yourself)</li>\n",
    "    <li>Compute the Rank-1 Recognition Rate.</li>\n",
    "</ul>  \n",
    "</div>\n"
   ]
  },
  {
   "cell_type": "code",
   "execution_count": null,
   "outputs": [],
   "source": [
    "x = score.to_numpy()\n",
    "B = 1000\n",
    "n = 2\n",
    "X = np.random.random((B, n))"
   ],
   "metadata": {
    "collapsed": false,
    "pycharm": {
     "name": "#%%\n"
    }
   }
  },
  {
   "cell_type": "code",
   "execution_count": null,
   "outputs": [],
   "source": [
    "import numba as nb\n",
    "@nb.njit(fastmath=True,parallel=True)\n",
    "def test_1(X):\n",
    "  K = np.zeros((B, B))\n",
    "  for i in nb.prange(X.shape[0]):\n",
    "      x_i = X[i, :]\n",
    "      for j in range(X.shape[0]):\n",
    "          x_j = X[j, :]\n",
    "          K[i, j] = np.exp(-np.linalg.norm(x_i - x_j, 2) ** 2)\n",
    "\n",
    "  return K"
   ],
   "metadata": {
    "collapsed": false,
    "pycharm": {
     "name": "#%%\n"
    }
   }
  },
  {
   "cell_type": "code",
   "execution_count": null,
   "metadata": {
    "collapsed": true,
    "jupyter": {
     "outputs_hidden": true
    }
   },
   "outputs": [],
   "source": [
    "\"\"\"Calculate the Cumulative Matching Characteristic curve.\"\"\"\n",
    "# Hint: don't use a library\n",
    "sim_mtx = test_1(X)\n",
    "print(sim_mtx.shape)"
   ]
  },
  {
   "cell_type": "code",
   "execution_count": null,
   "metadata": {
    "collapsed": true,
    "jupyter": {
     "outputs_hidden": true
    }
   },
   "outputs": [],
   "source": [
    "\"\"\"compute the Rank-1 Recognition Rate.\"\"\"\n"
   ]
  },
  {
   "cell_type": "markdown",
   "metadata": {},
   "source": [
    "<div class=\"alert alert-block alert-success\">\n",
    "<b>Q7: </b> Evaluate different biometric systems\n",
    "<ul>\n",
    "    <li>Use above evaluation techniques to compare the biometric system based on the left index to the right index </li>\n",
    "    <li>Do you see any differences in any of the curves or measures?</li>\n",
    "</ul>  \n",
    "</div>"
   ]
  },
  {
   "cell_type": "markdown",
   "metadata": {},
   "source": [
    "## IV. Assignment Instructions\n",
    "For this assignment you have to submit a report (.pdf) and the implementation of this notebook (.ipynb) to toledo. The report should be between 3-8 pages (more pages $\\nRightarrow$ higher score) and should be structured around the posed questions (Q1,...). The text should demonstrate your understanding of the material and, depending on the question, clearly introduce the context, technique, your expectation and interpretation of the results. Do not limit yourselves to just answering the questions. Feel free to add figures and, if needed, some *small* code snippet to clarify your position. **The report should be self contained, the notebook functions as supplementary material only!**\n",
    "\n",
    "*Note: Make sure you include all the files required to run the notebooks on submission.* <br>\n"
   ]
  },
  {
   "cell_type": "code",
   "execution_count": null,
   "metadata": {
    "collapsed": true,
    "jupyter": {
     "outputs_hidden": true
    }
   },
   "outputs": [],
   "source": []
  }
 ],
 "metadata": {
  "kernelspec": {
   "display_name": "Python 3",
   "language": "python",
   "name": "python3"
  },
  "language_info": {
   "codemirror_mode": {
    "name": "ipython",
    "version": 3
   },
   "file_extension": ".py",
   "mimetype": "text/x-python",
   "name": "python",
   "nbconvert_exporter": "python",
   "pygments_lexer": "ipython3",
   "version": "3.8.8"
  }
 },
 "nbformat": 4,
 "nbformat_minor": 4
}